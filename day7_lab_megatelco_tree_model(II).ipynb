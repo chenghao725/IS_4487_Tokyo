{
  "cells": [
    {
      "cell_type": "markdown",
      "metadata": {
        "id": "p_Yu45OYdj3Y"
      },
      "source": [
        "# Day 7 Lab, IS 4487\n",
        "\n",
        "The purpose of this Lab is to prepare you to complete today's project quiz. Here are the questions you need to be able to answer.\n",
        "\n",
        "- Fit a tree model of the target using *all the predictors*, then:  create a visualization of the tree and identify the top 3 most important predictors in this model.\n",
        "    \n",
        "- How do these models compare to majority class prediction?\n",
        "\n",
        "- How do they compare to the simpler model created in the previous project assignment.\n",
        "    \n",
        "- How will you use a classification model as part of a solution to the AdviseInvest case?\n",
        "\n"
      ]
    },
    {
      "cell_type": "markdown",
      "metadata": {
        "id": "UE93RwXhgiJS"
      },
      "source": [
        "##Load Libraries\n"
      ]
    },
    {
      "cell_type": "code",
      "execution_count": null,
      "metadata": {
        "id": "JYRZY5n0gfNe"
      },
      "outputs": [],
      "source": [
        "import pandas as pd\n",
        "import matplotlib.pyplot as plt\n",
        "\n",
        "# Import packages needed for the classification tree\n",
        "from sklearn.tree import plot_tree\n",
        "from sklearn import tree\n",
        "from sklearn.tree import DecisionTreeClassifier, export_graphviz # Import Decision Tree Classifier\n",
        "\n"
      ]
    },
    {
      "cell_type": "markdown",
      "metadata": {
        "id": "bREaXo8jfu-O"
      },
      "source": [
        "## Get data\n"
      ]
    },
    {
      "cell_type": "code",
      "execution_count": null,
      "metadata": {
        "id": "6_FwprxVgR0e"
      },
      "outputs": [],
      "source": [
        "mtc = pd.read_csv(\"https://raw.githubusercontent.com/jefftwebb/is_4487_base/dd870389117d5b24eee7417d5378d80496555130/Labs/DataSets/megatelco_leave_survey.csv\")"
      ]
    },
    {
      "cell_type": "markdown",
      "metadata": {
        "id": "BtxOWvFlKzgE"
      },
      "source": [
        "## Clean  data\n",
        "\n",
        "Perform the cleaning from the previous labs:\n",
        "\n",
        "- Make a copy of the data\n",
        "- Remove negative values of income and house\n",
        "- Remove absurdly large value of handset_price\n",
        "- Remove NAs\n",
        "- Change college to yes and no\n",
        "- Make string variables into categorical variables. To use in the tree algorithm we also need to convert the now ordered levels into integers. (DecisionTreeClassifier requires all numeric inputs.)\n",
        "\n",
        "\n"
      ]
    },
    {
      "cell_type": "code",
      "execution_count": null,
      "metadata": {
        "id": "7KXLvMcBK8Za"
      },
      "outputs": [],
      "source": [
        "# Make explicit copy\n",
        "mtc_clean = mtc.copy()\n",
        "\n",
        "# filter rows\n",
        "mtc_clean = mtc[(mtc['house'] > 0) & (mtc['income'] > 0) & (mtc['handset_price'] < 1000)]\n",
        "\n",
        "# remove NAs\n",
        "mtc_clean = mtc_clean.dropna()\n",
        "\n",
        "# Recode college\n",
        "mtc_clean['college'] = mtc_clean['college'].replace({'one': 'yes', 'zero': 'no'})"
      ]
    },
    {
      "cell_type": "markdown",
      "source": [
        "The next step is to make the categorical variables into integers that correspond to the order of the levels.\n",
        "\n",
        "This procedure requires just a small tweak to code from the previous lab.  We add `.codes` onto the end of `pd.Categorical()` function. Though oddly named, this function returns the integer codes (positions) of the categories for each value in the Categorical series.\n",
        "\n",
        "Here's an example:"
      ],
      "metadata": {
        "id": "FlTg1OtvC8jI"
      }
    },
    {
      "cell_type": "code",
      "source": [
        "# without .codes\n",
        "pd.Categorical(['low', 'high', 'medium', 'low'],\n",
        "                   categories=['low', 'medium', 'high'],\n",
        "                   ordered=True)"
      ],
      "metadata": {
        "id": "jpn5Y6QYf44p"
      },
      "execution_count": null,
      "outputs": []
    },
    {
      "cell_type": "code",
      "source": [
        "# with .codes\n",
        "pd.Categorical(['low', 'high', 'medium', 'low'],\n",
        "                   categories=['low', 'medium', 'high'],\n",
        "                   ordered=True).codes"
      ],
      "metadata": {
        "id": "Ed98M_TRgByd"
      },
      "execution_count": null,
      "outputs": []
    },
    {
      "cell_type": "markdown",
      "source": [
        "Remember that some of the categorical variables are ordered and some aren't."
      ],
      "metadata": {
        "id": "rGOLNPG2gXEd"
      }
    },
    {
      "cell_type": "code",
      "source": [
        "# change reported usage and reported satisfaction (ordered)\n",
        "mtc_clean['college'] = pd.Categorical(mtc_clean['college'],\n",
        "                                    ordered = False).codes\n",
        "\n",
        "mtc_clean['considering_change_of_plan'] = pd.Categorical(mtc_clean['considering_change_of_plan'],\n",
        "                                    ordered = False).codes\n",
        "\n",
        "# change reported usage and reported satisfaction (ordered)\n",
        "mtc_clean['reported_usage_level'] = pd.Categorical(mtc_clean['reported_usage_level'],\n",
        "                                    categories = ['low', 'avg','high'],\n",
        "                                    ordered = True).codes\n",
        "\n",
        "mtc_clean['reported_satisfaction'] = pd.Categorical(mtc_clean['reported_satisfaction'],\n",
        "                                    categories = ['low', 'avg','high'],\n",
        "                                    ordered = True).codes"
      ],
      "metadata": {
        "id": "5O1ItcWUeMst"
      },
      "execution_count": null,
      "outputs": []
    },
    {
      "cell_type": "markdown",
      "metadata": {
        "id": "oKoXf3kkJVmm"
      },
      "source": [
        "## Fit a full tree model\n",
        "\n",
        "Use all of the variables.  We'll call this the \"full tree.\" We will use `max_depth = 4` to keep the tree relatively simple but still include sufficient complexity.\n",
        "\n",
        "We need to undertake a couple of last data preparation steps.  \n",
        "\n",
        "1. We will use cross-validation to assess whether the model is overfitting.  Therefore, we will split the dataset into train and test sets, and make sure to evaluate model accuracy on the test set.\n",
        "\n",
        "2. Since we will be using all of the predictors in the `X` predictor matrix we need to make sure to omit  `id` and `leave` and define `y` as `leave`.\n",
        "\n"
      ]
    },
    {
      "cell_type": "code",
      "source": [
        "# 1. divide mtc_clean into train and test\n",
        "train = mtc_clean.sample(frac=0.8, random_state=200) # 80% of data for training\n",
        "test = mtc_clean.drop(train.index) # the remaining 20%\n",
        "\n",
        "\n",
        "# 2. Define X and y in train and test\n",
        "X_train = train.drop(['id', 'leave'], axis = 1)\n",
        "y_train = train['leave']\n",
        "\n",
        "X_test = test.drop(['id', 'leave'], axis = 1)\n",
        "y_test = test['leave']"
      ],
      "metadata": {
        "id": "Av8v-OFciq96"
      },
      "execution_count": null,
      "outputs": []
    },
    {
      "cell_type": "markdown",
      "source": [
        "Now, fit the tree--call it `full_tree`-- using `X_train` and `y_train` with `max_depth = 4`:"
      ],
      "metadata": {
        "id": "B0wZUV-RkLvL"
      }
    },
    {
      "cell_type": "code",
      "execution_count": null,
      "metadata": {
        "id": "SFOTNW70MbI9"
      },
      "outputs": [],
      "source": [
        "# Initialize the tree\n",
        "\n",
        "# Fit the model\n"
      ]
    },
    {
      "cell_type": "markdown",
      "metadata": {
        "id": "qkDk8JG8n_W9"
      },
      "source": [
        "##Visualize the full tree"
      ]
    },
    {
      "cell_type": "code",
      "execution_count": null,
      "metadata": {
        "id": "nFvB1n-_oBV6"
      },
      "outputs": [],
      "source": [
        "#Adjust the size of the visualization\n",
        "plt.figure(figsize=(30,20))\n",
        "\n",
        "# Plot the tree with feature names and class names\n",
        "plot_tree(full_tree,\n",
        "          feature_names = X_train.columns,\n",
        "          class_names=['STAY', 'LEAVE'],\n",
        "          filled=True,\n",
        "          max_depth=2) # reduce depth for legibility\n",
        "\n"
      ]
    },
    {
      "cell_type": "markdown",
      "source": [
        "What are the most important predictors of churn based on this model?"
      ],
      "metadata": {
        "id": "Fjvfd3SxG9MA"
      }
    },
    {
      "cell_type": "markdown",
      "metadata": {
        "id": "m-ZyMMzIMrba"
      },
      "source": [
        "## Check Accuracy"
      ]
    },
    {
      "cell_type": "code",
      "execution_count": null,
      "metadata": {
        "id": "Tzn8iS8hMtvQ"
      },
      "outputs": [],
      "source": [
        "# Check accuracy of the model on the train set\n"
      ]
    },
    {
      "cell_type": "markdown",
      "source": [
        "\n",
        "Is overfitting taking place?  Check accuracy when predicting on the test set."
      ],
      "metadata": {
        "id": "F1xdUAveIZ3q"
      }
    },
    {
      "cell_type": "code",
      "source": [
        "# Check accuracy on the test set\n",
        "\n"
      ],
      "metadata": {
        "id": "gJFzFNjHl8Wk"
      },
      "execution_count": null,
      "outputs": []
    },
    {
      "cell_type": "markdown",
      "source": [
        "Comment on:\n",
        "\n",
        "1. Overfitting.  Compare train and test accuracy.  These should not be very different. (Remember that the complicated model from the previous lab--without the `max_depth()` setting--went from accuracy of .98 on the train set to .52 on the test set.\n",
        "\n",
        "2. Performance. Is this model doing better than the majority class classifier?  Is it doing better than the simple models from the previous lab as measured by accuracy on the test set?"
      ],
      "metadata": {
        "id": "ZV8XB8Het5xc"
      }
    },
    {
      "cell_type": "markdown",
      "source": [
        "## Functions\n",
        "\n",
        "- `pd.read_csv()`: Reads a CSV file into a pandas DataFrame\n",
        "- `dropna()`: Removes rows with missing values from a DataFrame\n",
        "- `replace()`: Replaces one value with another in a series\n",
        "- `drop()`: Removes specified columns in a DataFrame\n",
        "- `pd.Categorical().codes`: Sets categorical levels and returns integers based on those levels.\n",
        "- `sample()`: creates a random sample of a data frame.\n",
        "- `DecisionTreeClassifier()`: Creates a decision tree classifier\n",
        "- `fit()`: Builds a decision tree classifier from the training set (`X`, `y`)\n",
        "- `plt.figure()`: Creates a new figure or activates an existing figure in matplotlib\n",
        "- `plot_tree()`: Plots a decision tree\n",
        "- `plt.show()`: Displays all open figures\n",
        "- `predict()`: Predicts class labels for samples in X\n",
        "- `sum()`: Returns the sum of a sequence of numbers\n",
        "- `len()`: Returns the number of items in an object"
      ],
      "metadata": {
        "id": "82tA1y5mbCf1"
      }
    }
  ],
  "metadata": {
    "colab": {
      "provenance": []
    },
    "kernelspec": {
      "display_name": "Python 3",
      "name": "python3"
    },
    "language_info": {
      "name": "python"
    }
  },
  "nbformat": 4,
  "nbformat_minor": 0
}