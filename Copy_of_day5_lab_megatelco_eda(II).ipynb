{
  "cells": [
    {
      "cell_type": "markdown",
      "metadata": {
        "id": "view-in-github",
        "colab_type": "text"
      },
      "source": [
        "<a href=\"https://colab.research.google.com/github/chenghao725/IS_4487_Tokyo/blob/main/Copy_of_day5_lab_megatelco_eda(II).ipynb\" target=\"_parent\"><img src=\"https://colab.research.google.com/assets/colab-badge.svg\" alt=\"Open In Colab\"/></a>"
      ]
    },
    {
      "cell_type": "markdown",
      "metadata": {
        "id": "CELbkY_93aG5"
      },
      "source": [
        "# Day 5 Lab_Chenghao Guo, IS 4487\n",
        "\n",
        "This lab (like the last one) is designed  to prepare you to complete the project assignment for today. We will go through code (using MegaTelCo as an example) that you will be able to adapt for the AdviseInvest project. Here is what you need to be able to do for the project assignment:\n",
        "\n",
        "1. Create a plot showing the relationship between a numeric (or count) and a categorical variable.\n",
        "2. Create a plot showing the relationship between two  categorical variables.\n"
      ]
    },
    {
      "cell_type": "markdown",
      "metadata": {
        "id": "RIpwxYMA3aG7"
      },
      "source": [
        "## Load Libraries\n"
      ]
    },
    {
      "cell_type": "code",
      "execution_count": 1,
      "metadata": {
        "vscode": {
          "languageId": "plaintext"
        },
        "id": "zIax-DId3aG8"
      },
      "outputs": [],
      "source": [
        "import pandas as pd\n",
        "import matplotlib.pyplot as plt\n",
        "import seaborn as sns\n"
      ]
    },
    {
      "cell_type": "markdown",
      "metadata": {
        "id": "1gEwwLZc3aG8"
      },
      "source": [
        "## Import Data\n"
      ]
    },
    {
      "cell_type": "code",
      "execution_count": 2,
      "metadata": {
        "vscode": {
          "languageId": "plaintext"
        },
        "id": "O8P7DoGU3aG8"
      },
      "outputs": [],
      "source": [
        "mtc = pd.read_csv(\"https://raw.githubusercontent.com/jefftwebb/is_4487_base/dd870389117d5b24eee7417d5378d80496555130/Labs/DataSets/megatelco_leave_survey.csv\")"
      ]
    },
    {
      "cell_type": "code",
      "source": [
        "mtc.head()"
      ],
      "metadata": {
        "id": "0CBuD0PYFdtB",
        "colab": {
          "base_uri": "https://localhost:8080/",
          "height": 226
        },
        "outputId": "0b143ea9-5e2d-4967-8abf-52e896c1028c"
      },
      "execution_count": 3,
      "outputs": [
        {
          "output_type": "execute_result",
          "data": {
            "text/plain": [
              "  college  income  overage  leftover   house  handset_price  \\\n",
              "0     one   23859       70         0  519105            154   \n",
              "1    zero   72466       67        16  271182            262   \n",
              "2    zero   30883       60         0  647281            211   \n",
              "3     one   44512        0        22  754958            232   \n",
              "4    zero   70535        0         0  653421            310   \n",
              "\n",
              "   over_15mins_calls_per_month  average_call_duration reported_satisfaction  \\\n",
              "0                          5.0                      8                   low   \n",
              "1                          5.0                      5                   low   \n",
              "2                          3.0                      8                   low   \n",
              "3                          0.0                      5                   low   \n",
              "4                          0.0                     14                   low   \n",
              "\n",
              "  reported_usage_level considering_change_of_plan  leave     id  \n",
              "0                  low                        yes  LEAVE   8183  \n",
              "1                  low                        yes  LEAVE  12501  \n",
              "2                  low                        yes   STAY   7425  \n",
              "3                  low                         no  LEAVE  13488  \n",
              "4                  low                        yes   STAY  11389  "
            ],
            "text/html": [
              "\n",
              "  <div id=\"df-b305b35e-4a80-4c31-9f80-d35d07fb7544\" class=\"colab-df-container\">\n",
              "    <div>\n",
              "<style scoped>\n",
              "    .dataframe tbody tr th:only-of-type {\n",
              "        vertical-align: middle;\n",
              "    }\n",
              "\n",
              "    .dataframe tbody tr th {\n",
              "        vertical-align: top;\n",
              "    }\n",
              "\n",
              "    .dataframe thead th {\n",
              "        text-align: right;\n",
              "    }\n",
              "</style>\n",
              "<table border=\"1\" class=\"dataframe\">\n",
              "  <thead>\n",
              "    <tr style=\"text-align: right;\">\n",
              "      <th></th>\n",
              "      <th>college</th>\n",
              "      <th>income</th>\n",
              "      <th>overage</th>\n",
              "      <th>leftover</th>\n",
              "      <th>house</th>\n",
              "      <th>handset_price</th>\n",
              "      <th>over_15mins_calls_per_month</th>\n",
              "      <th>average_call_duration</th>\n",
              "      <th>reported_satisfaction</th>\n",
              "      <th>reported_usage_level</th>\n",
              "      <th>considering_change_of_plan</th>\n",
              "      <th>leave</th>\n",
              "      <th>id</th>\n",
              "    </tr>\n",
              "  </thead>\n",
              "  <tbody>\n",
              "    <tr>\n",
              "      <th>0</th>\n",
              "      <td>one</td>\n",
              "      <td>23859</td>\n",
              "      <td>70</td>\n",
              "      <td>0</td>\n",
              "      <td>519105</td>\n",
              "      <td>154</td>\n",
              "      <td>5.0</td>\n",
              "      <td>8</td>\n",
              "      <td>low</td>\n",
              "      <td>low</td>\n",
              "      <td>yes</td>\n",
              "      <td>LEAVE</td>\n",
              "      <td>8183</td>\n",
              "    </tr>\n",
              "    <tr>\n",
              "      <th>1</th>\n",
              "      <td>zero</td>\n",
              "      <td>72466</td>\n",
              "      <td>67</td>\n",
              "      <td>16</td>\n",
              "      <td>271182</td>\n",
              "      <td>262</td>\n",
              "      <td>5.0</td>\n",
              "      <td>5</td>\n",
              "      <td>low</td>\n",
              "      <td>low</td>\n",
              "      <td>yes</td>\n",
              "      <td>LEAVE</td>\n",
              "      <td>12501</td>\n",
              "    </tr>\n",
              "    <tr>\n",
              "      <th>2</th>\n",
              "      <td>zero</td>\n",
              "      <td>30883</td>\n",
              "      <td>60</td>\n",
              "      <td>0</td>\n",
              "      <td>647281</td>\n",
              "      <td>211</td>\n",
              "      <td>3.0</td>\n",
              "      <td>8</td>\n",
              "      <td>low</td>\n",
              "      <td>low</td>\n",
              "      <td>yes</td>\n",
              "      <td>STAY</td>\n",
              "      <td>7425</td>\n",
              "    </tr>\n",
              "    <tr>\n",
              "      <th>3</th>\n",
              "      <td>one</td>\n",
              "      <td>44512</td>\n",
              "      <td>0</td>\n",
              "      <td>22</td>\n",
              "      <td>754958</td>\n",
              "      <td>232</td>\n",
              "      <td>0.0</td>\n",
              "      <td>5</td>\n",
              "      <td>low</td>\n",
              "      <td>low</td>\n",
              "      <td>no</td>\n",
              "      <td>LEAVE</td>\n",
              "      <td>13488</td>\n",
              "    </tr>\n",
              "    <tr>\n",
              "      <th>4</th>\n",
              "      <td>zero</td>\n",
              "      <td>70535</td>\n",
              "      <td>0</td>\n",
              "      <td>0</td>\n",
              "      <td>653421</td>\n",
              "      <td>310</td>\n",
              "      <td>0.0</td>\n",
              "      <td>14</td>\n",
              "      <td>low</td>\n",
              "      <td>low</td>\n",
              "      <td>yes</td>\n",
              "      <td>STAY</td>\n",
              "      <td>11389</td>\n",
              "    </tr>\n",
              "  </tbody>\n",
              "</table>\n",
              "</div>\n",
              "    <div class=\"colab-df-buttons\">\n",
              "\n",
              "  <div class=\"colab-df-container\">\n",
              "    <button class=\"colab-df-convert\" onclick=\"convertToInteractive('df-b305b35e-4a80-4c31-9f80-d35d07fb7544')\"\n",
              "            title=\"Convert this dataframe to an interactive table.\"\n",
              "            style=\"display:none;\">\n",
              "\n",
              "  <svg xmlns=\"http://www.w3.org/2000/svg\" height=\"24px\" viewBox=\"0 -960 960 960\">\n",
              "    <path d=\"M120-120v-720h720v720H120Zm60-500h600v-160H180v160Zm220 220h160v-160H400v160Zm0 220h160v-160H400v160ZM180-400h160v-160H180v160Zm440 0h160v-160H620v160ZM180-180h160v-160H180v160Zm440 0h160v-160H620v160Z\"/>\n",
              "  </svg>\n",
              "    </button>\n",
              "\n",
              "  <style>\n",
              "    .colab-df-container {\n",
              "      display:flex;\n",
              "      gap: 12px;\n",
              "    }\n",
              "\n",
              "    .colab-df-convert {\n",
              "      background-color: #E8F0FE;\n",
              "      border: none;\n",
              "      border-radius: 50%;\n",
              "      cursor: pointer;\n",
              "      display: none;\n",
              "      fill: #1967D2;\n",
              "      height: 32px;\n",
              "      padding: 0 0 0 0;\n",
              "      width: 32px;\n",
              "    }\n",
              "\n",
              "    .colab-df-convert:hover {\n",
              "      background-color: #E2EBFA;\n",
              "      box-shadow: 0px 1px 2px rgba(60, 64, 67, 0.3), 0px 1px 3px 1px rgba(60, 64, 67, 0.15);\n",
              "      fill: #174EA6;\n",
              "    }\n",
              "\n",
              "    .colab-df-buttons div {\n",
              "      margin-bottom: 4px;\n",
              "    }\n",
              "\n",
              "    [theme=dark] .colab-df-convert {\n",
              "      background-color: #3B4455;\n",
              "      fill: #D2E3FC;\n",
              "    }\n",
              "\n",
              "    [theme=dark] .colab-df-convert:hover {\n",
              "      background-color: #434B5C;\n",
              "      box-shadow: 0px 1px 3px 1px rgba(0, 0, 0, 0.15);\n",
              "      filter: drop-shadow(0px 1px 2px rgba(0, 0, 0, 0.3));\n",
              "      fill: #FFFFFF;\n",
              "    }\n",
              "  </style>\n",
              "\n",
              "    <script>\n",
              "      const buttonEl =\n",
              "        document.querySelector('#df-b305b35e-4a80-4c31-9f80-d35d07fb7544 button.colab-df-convert');\n",
              "      buttonEl.style.display =\n",
              "        google.colab.kernel.accessAllowed ? 'block' : 'none';\n",
              "\n",
              "      async function convertToInteractive(key) {\n",
              "        const element = document.querySelector('#df-b305b35e-4a80-4c31-9f80-d35d07fb7544');\n",
              "        const dataTable =\n",
              "          await google.colab.kernel.invokeFunction('convertToInteractive',\n",
              "                                                    [key], {});\n",
              "        if (!dataTable) return;\n",
              "\n",
              "        const docLinkHtml = 'Like what you see? Visit the ' +\n",
              "          '<a target=\"_blank\" href=https://colab.research.google.com/notebooks/data_table.ipynb>data table notebook</a>'\n",
              "          + ' to learn more about interactive tables.';\n",
              "        element.innerHTML = '';\n",
              "        dataTable['output_type'] = 'display_data';\n",
              "        await google.colab.output.renderOutput(dataTable, element);\n",
              "        const docLink = document.createElement('div');\n",
              "        docLink.innerHTML = docLinkHtml;\n",
              "        element.appendChild(docLink);\n",
              "      }\n",
              "    </script>\n",
              "  </div>\n",
              "\n",
              "\n",
              "<div id=\"df-1904b41c-f811-48c6-852e-f44a3486e081\">\n",
              "  <button class=\"colab-df-quickchart\" onclick=\"quickchart('df-1904b41c-f811-48c6-852e-f44a3486e081')\"\n",
              "            title=\"Suggest charts\"\n",
              "            style=\"display:none;\">\n",
              "\n",
              "<svg xmlns=\"http://www.w3.org/2000/svg\" height=\"24px\"viewBox=\"0 0 24 24\"\n",
              "     width=\"24px\">\n",
              "    <g>\n",
              "        <path d=\"M19 3H5c-1.1 0-2 .9-2 2v14c0 1.1.9 2 2 2h14c1.1 0 2-.9 2-2V5c0-1.1-.9-2-2-2zM9 17H7v-7h2v7zm4 0h-2V7h2v10zm4 0h-2v-4h2v4z\"/>\n",
              "    </g>\n",
              "</svg>\n",
              "  </button>\n",
              "\n",
              "<style>\n",
              "  .colab-df-quickchart {\n",
              "      --bg-color: #E8F0FE;\n",
              "      --fill-color: #1967D2;\n",
              "      --hover-bg-color: #E2EBFA;\n",
              "      --hover-fill-color: #174EA6;\n",
              "      --disabled-fill-color: #AAA;\n",
              "      --disabled-bg-color: #DDD;\n",
              "  }\n",
              "\n",
              "  [theme=dark] .colab-df-quickchart {\n",
              "      --bg-color: #3B4455;\n",
              "      --fill-color: #D2E3FC;\n",
              "      --hover-bg-color: #434B5C;\n",
              "      --hover-fill-color: #FFFFFF;\n",
              "      --disabled-bg-color: #3B4455;\n",
              "      --disabled-fill-color: #666;\n",
              "  }\n",
              "\n",
              "  .colab-df-quickchart {\n",
              "    background-color: var(--bg-color);\n",
              "    border: none;\n",
              "    border-radius: 50%;\n",
              "    cursor: pointer;\n",
              "    display: none;\n",
              "    fill: var(--fill-color);\n",
              "    height: 32px;\n",
              "    padding: 0;\n",
              "    width: 32px;\n",
              "  }\n",
              "\n",
              "  .colab-df-quickchart:hover {\n",
              "    background-color: var(--hover-bg-color);\n",
              "    box-shadow: 0 1px 2px rgba(60, 64, 67, 0.3), 0 1px 3px 1px rgba(60, 64, 67, 0.15);\n",
              "    fill: var(--button-hover-fill-color);\n",
              "  }\n",
              "\n",
              "  .colab-df-quickchart-complete:disabled,\n",
              "  .colab-df-quickchart-complete:disabled:hover {\n",
              "    background-color: var(--disabled-bg-color);\n",
              "    fill: var(--disabled-fill-color);\n",
              "    box-shadow: none;\n",
              "  }\n",
              "\n",
              "  .colab-df-spinner {\n",
              "    border: 2px solid var(--fill-color);\n",
              "    border-color: transparent;\n",
              "    border-bottom-color: var(--fill-color);\n",
              "    animation:\n",
              "      spin 1s steps(1) infinite;\n",
              "  }\n",
              "\n",
              "  @keyframes spin {\n",
              "    0% {\n",
              "      border-color: transparent;\n",
              "      border-bottom-color: var(--fill-color);\n",
              "      border-left-color: var(--fill-color);\n",
              "    }\n",
              "    20% {\n",
              "      border-color: transparent;\n",
              "      border-left-color: var(--fill-color);\n",
              "      border-top-color: var(--fill-color);\n",
              "    }\n",
              "    30% {\n",
              "      border-color: transparent;\n",
              "      border-left-color: var(--fill-color);\n",
              "      border-top-color: var(--fill-color);\n",
              "      border-right-color: var(--fill-color);\n",
              "    }\n",
              "    40% {\n",
              "      border-color: transparent;\n",
              "      border-right-color: var(--fill-color);\n",
              "      border-top-color: var(--fill-color);\n",
              "    }\n",
              "    60% {\n",
              "      border-color: transparent;\n",
              "      border-right-color: var(--fill-color);\n",
              "    }\n",
              "    80% {\n",
              "      border-color: transparent;\n",
              "      border-right-color: var(--fill-color);\n",
              "      border-bottom-color: var(--fill-color);\n",
              "    }\n",
              "    90% {\n",
              "      border-color: transparent;\n",
              "      border-bottom-color: var(--fill-color);\n",
              "    }\n",
              "  }\n",
              "</style>\n",
              "\n",
              "  <script>\n",
              "    async function quickchart(key) {\n",
              "      const quickchartButtonEl =\n",
              "        document.querySelector('#' + key + ' button');\n",
              "      quickchartButtonEl.disabled = true;  // To prevent multiple clicks.\n",
              "      quickchartButtonEl.classList.add('colab-df-spinner');\n",
              "      try {\n",
              "        const charts = await google.colab.kernel.invokeFunction(\n",
              "            'suggestCharts', [key], {});\n",
              "      } catch (error) {\n",
              "        console.error('Error during call to suggestCharts:', error);\n",
              "      }\n",
              "      quickchartButtonEl.classList.remove('colab-df-spinner');\n",
              "      quickchartButtonEl.classList.add('colab-df-quickchart-complete');\n",
              "    }\n",
              "    (() => {\n",
              "      let quickchartButtonEl =\n",
              "        document.querySelector('#df-1904b41c-f811-48c6-852e-f44a3486e081 button');\n",
              "      quickchartButtonEl.style.display =\n",
              "        google.colab.kernel.accessAllowed ? 'block' : 'none';\n",
              "    })();\n",
              "  </script>\n",
              "</div>\n",
              "\n",
              "    </div>\n",
              "  </div>\n"
            ],
            "application/vnd.google.colaboratory.intrinsic+json": {
              "type": "dataframe",
              "variable_name": "mtc",
              "summary": "{\n  \"name\": \"mtc\",\n  \"rows\": 5000,\n  \"fields\": [\n    {\n      \"column\": \"college\",\n      \"properties\": {\n        \"dtype\": \"category\",\n        \"num_unique_values\": 2,\n        \"samples\": [\n          \"zero\",\n          \"one\"\n        ],\n        \"semantic_type\": \"\",\n        \"description\": \"\"\n      }\n    },\n    {\n      \"column\": \"income\",\n      \"properties\": {\n        \"dtype\": \"number\",\n        \"std\": 41703,\n        \"min\": -28811,\n        \"max\": 159938,\n        \"num_unique_values\": 4887,\n        \"samples\": [\n          60980,\n          132496\n        ],\n        \"semantic_type\": \"\",\n        \"description\": \"\"\n      }\n    },\n    {\n      \"column\": \"overage\",\n      \"properties\": {\n        \"dtype\": \"number\",\n        \"std\": 85,\n        \"min\": 0,\n        \"max\": 335,\n        \"num_unique_values\": 244,\n        \"samples\": [\n          47,\n          74\n        ],\n        \"semantic_type\": \"\",\n        \"description\": \"\"\n      }\n    },\n    {\n      \"column\": \"leftover\",\n      \"properties\": {\n        \"dtype\": \"number\",\n        \"std\": 26,\n        \"min\": 0,\n        \"max\": 89,\n        \"num_unique_values\": 86,\n        \"samples\": [\n          39,\n          0\n        ],\n        \"semantic_type\": \"\",\n        \"description\": \"\"\n      }\n    },\n    {\n      \"column\": \"house\",\n      \"properties\": {\n        \"dtype\": \"number\",\n        \"std\": 254287,\n        \"min\": -796132,\n        \"max\": 1000000,\n        \"num_unique_values\": 4967,\n        \"samples\": [\n          851118,\n          175852\n        ],\n        \"semantic_type\": \"\",\n        \"description\": \"\"\n      }\n    },\n    {\n      \"column\": \"handset_price\",\n      \"properties\": {\n        \"dtype\": \"number\",\n        \"std\": 28282,\n        \"min\": 130,\n        \"max\": 2000234,\n        \"num_unique_values\": 754,\n        \"samples\": [\n          766,\n          130\n        ],\n        \"semantic_type\": \"\",\n        \"description\": \"\"\n      }\n    },\n    {\n      \"column\": \"over_15mins_calls_per_month\",\n      \"properties\": {\n        \"dtype\": \"number\",\n        \"std\": 8.8060701426574,\n        \"min\": 0.0,\n        \"max\": 29.0,\n        \"num_unique_values\": 25,\n        \"samples\": [\n          18.0,\n          23.0\n        ],\n        \"semantic_type\": \"\",\n        \"description\": \"\"\n      }\n    },\n    {\n      \"column\": \"average_call_duration\",\n      \"properties\": {\n        \"dtype\": \"number\",\n        \"std\": 4,\n        \"min\": 1,\n        \"max\": 15,\n        \"num_unique_values\": 13,\n        \"samples\": [\n          15,\n          12\n        ],\n        \"semantic_type\": \"\",\n        \"description\": \"\"\n      }\n    },\n    {\n      \"column\": \"reported_satisfaction\",\n      \"properties\": {\n        \"dtype\": \"category\",\n        \"num_unique_values\": 3,\n        \"samples\": [\n          \"low\",\n          \"high\"\n        ],\n        \"semantic_type\": \"\",\n        \"description\": \"\"\n      }\n    },\n    {\n      \"column\": \"reported_usage_level\",\n      \"properties\": {\n        \"dtype\": \"category\",\n        \"num_unique_values\": 3,\n        \"samples\": [\n          \"low\",\n          \"high\"\n        ],\n        \"semantic_type\": \"\",\n        \"description\": \"\"\n      }\n    },\n    {\n      \"column\": \"considering_change_of_plan\",\n      \"properties\": {\n        \"dtype\": \"category\",\n        \"num_unique_values\": 3,\n        \"samples\": [\n          \"yes\",\n          \"no\"\n        ],\n        \"semantic_type\": \"\",\n        \"description\": \"\"\n      }\n    },\n    {\n      \"column\": \"leave\",\n      \"properties\": {\n        \"dtype\": \"category\",\n        \"num_unique_values\": 2,\n        \"samples\": [\n          \"STAY\",\n          \"LEAVE\"\n        ],\n        \"semantic_type\": \"\",\n        \"description\": \"\"\n      }\n    },\n    {\n      \"column\": \"id\",\n      \"properties\": {\n        \"dtype\": \"number\",\n        \"std\": 5813,\n        \"min\": 2,\n        \"max\": 20000,\n        \"num_unique_values\": 5000,\n        \"samples\": [\n          10150,\n          5400\n        ],\n        \"semantic_type\": \"\",\n        \"description\": \"\"\n      }\n    }\n  ]\n}"
            }
          },
          "metadata": {},
          "execution_count": 3
        }
      ]
    },
    {
      "cell_type": "code",
      "source": [
        "mtc.info()"
      ],
      "metadata": {
        "id": "bQwxwQY1ByQC",
        "colab": {
          "base_uri": "https://localhost:8080/"
        },
        "outputId": "a3d0c789-43c2-4a5e-8e01-60e5909a99be"
      },
      "execution_count": 4,
      "outputs": [
        {
          "output_type": "stream",
          "name": "stdout",
          "text": [
            "<class 'pandas.core.frame.DataFrame'>\n",
            "RangeIndex: 5000 entries, 0 to 4999\n",
            "Data columns (total 13 columns):\n",
            " #   Column                       Non-Null Count  Dtype  \n",
            "---  ------                       --------------  -----  \n",
            " 0   college                      5000 non-null   object \n",
            " 1   income                       5000 non-null   int64  \n",
            " 2   overage                      5000 non-null   int64  \n",
            " 3   leftover                     5000 non-null   int64  \n",
            " 4   house                        5000 non-null   int64  \n",
            " 5   handset_price                5000 non-null   int64  \n",
            " 6   over_15mins_calls_per_month  4997 non-null   float64\n",
            " 7   average_call_duration        5000 non-null   int64  \n",
            " 8   reported_satisfaction        5000 non-null   object \n",
            " 9   reported_usage_level         5000 non-null   object \n",
            " 10  considering_change_of_plan   5000 non-null   object \n",
            " 11  leave                        5000 non-null   object \n",
            " 12  id                           5000 non-null   int64  \n",
            "dtypes: float64(1), int64(7), object(5)\n",
            "memory usage: 507.9+ KB\n"
          ]
        }
      ]
    },
    {
      "cell_type": "markdown",
      "metadata": {
        "id": "lO9YZui53aG8"
      },
      "source": [
        "# Prepare Data\n",
        "\n",
        "1. Perform the cleaning from the previous lab:\n",
        "   1. Remove negative values of `income` and `house`\n",
        "   2. Remove absurdly large value of `handset_price`\n",
        "   3. Remove NAs\n",
        "   4. Make character variables into categorical variables, including `college` which we will use for to demo the plots. (`college` is coded `one`/`zero`, which is weird, but we'll leave it as is.)\n",
        "\n",
        "For simplicity, I have added the code that you wrote for the previous lab in the code chunks below."
      ]
    },
    {
      "cell_type": "code",
      "execution_count": 5,
      "metadata": {
        "vscode": {
          "languageId": "plaintext"
        },
        "id": "-Qs5j2i23aG8"
      },
      "outputs": [],
      "source": [
        "# filter rows\n",
        "mtc_clean = mtc[(mtc['house'] > 0) & (mtc['income'] > 0) & (mtc['handset_price'] < 1000)]\n"
      ]
    },
    {
      "cell_type": "code",
      "source": [
        "# remove NAs\n",
        "mtc_clean = mtc_clean.dropna()"
      ],
      "metadata": {
        "id": "U0jC5mp0DHUN"
      },
      "execution_count": 6,
      "outputs": []
    },
    {
      "cell_type": "code",
      "source": [
        "# Convert string to categorical variables (including college)\n",
        "mtc_clean['reported_satisfaction'] = mtc_clean['reported_satisfaction'].astype('category')\n",
        "mtc_clean['reported_usage_level'] = mtc_clean['reported_usage_level'].astype('category')\n",
        "mtc_clean['considering_change_of_plan'] = mtc_clean['considering_change_of_plan'].astype('category')\n",
        "mtc_clean['college'] = mtc_clean['college'].astype('category')\n",
        "mtc_clean['leave'] = mtc_clean['leave'].astype('category')\n"
      ],
      "metadata": {
        "id": "cc-Z0X9QDIUZ"
      },
      "execution_count": 7,
      "outputs": []
    },
    {
      "cell_type": "code",
      "source": [
        "# check that it worked\n",
        "mtc_clean.isna().sum()"
      ],
      "metadata": {
        "id": "CwGyJUqKDgmp",
        "colab": {
          "base_uri": "https://localhost:8080/"
        },
        "outputId": "c11431ba-9b0b-4f3d-c06f-715efb5696c0"
      },
      "execution_count": 8,
      "outputs": [
        {
          "output_type": "execute_result",
          "data": {
            "text/plain": [
              "college                        0\n",
              "income                         0\n",
              "overage                        0\n",
              "leftover                       0\n",
              "house                          0\n",
              "handset_price                  0\n",
              "over_15mins_calls_per_month    0\n",
              "average_call_duration          0\n",
              "reported_satisfaction          0\n",
              "reported_usage_level           0\n",
              "considering_change_of_plan     0\n",
              "leave                          0\n",
              "id                             0\n",
              "dtype: int64"
            ]
          },
          "metadata": {},
          "execution_count": 8
        }
      ]
    },
    {
      "cell_type": "markdown",
      "source": [
        "Note that there are now no NAs; 6 rows have been removed."
      ],
      "metadata": {
        "id": "0YffH0awD6Z3"
      }
    },
    {
      "cell_type": "markdown",
      "source": [
        "In the project you will be directed to change a 0/1 variable into a categorical variable (with labels).  This change helps make plots more legible.  Here is how to do that with pandas, using `college` as an example.  The only difference is that college, weirdly, consists not in 0/1 but in the words \"zero\" and  \"one.\""
      ],
      "metadata": {
        "id": "QqYqhf96BtSk"
      }
    },
    {
      "cell_type": "markdown",
      "source": [
        "We will use the Pandas `replace()` function to make the change. The syntax is: `Series.replace(to_replace, value)`, where \"Series\" is the data frame column.\n",
        "\n",
        "This creates a string variable. The second step is to turn that into a categorical variable."
      ],
      "metadata": {
        "id": "Oc1V6KPcGp9b"
      }
    },
    {
      "cell_type": "code",
      "source": [
        "# Write your code here\n",
        "mtc_clean['college'] = mtc_clean['college'].replace({'zero': 0, 'one': 1})"
      ],
      "metadata": {
        "id": "cXc1DX8NCBKh"
      },
      "execution_count": 9,
      "outputs": []
    },
    {
      "cell_type": "code",
      "source": [
        "# check that it worked:\n",
        "mtc_clean['college'].value_counts()"
      ],
      "metadata": {
        "id": "1WRO2pFSGTik",
        "colab": {
          "base_uri": "https://localhost:8080/"
        },
        "outputId": "9f9bea2d-3171-4404-9f8f-e7b3086c277d"
      },
      "execution_count": 10,
      "outputs": [
        {
          "output_type": "execute_result",
          "data": {
            "text/plain": [
              "college\n",
              "1    2497\n",
              "0    2497\n",
              "Name: count, dtype: int64"
            ]
          },
          "metadata": {},
          "execution_count": 10
        }
      ]
    },
    {
      "cell_type": "markdown",
      "source": [
        "# Plotting"
      ],
      "metadata": {
        "id": "5pttyIbxLx4G"
      }
    },
    {
      "cell_type": "markdown",
      "source": [
        "## 1. Plot the relationship between a numeric and a categorical variable"
      ],
      "metadata": {
        "id": "Gx-vNftVL0wO"
      }
    },
    {
      "cell_type": "markdown",
      "source": [
        "What, for example, would be the appropriate plot type for showing the relationship between `leave`--our target variable--and `income`? In this case, `leave` is a categorical variable, while `income` is numeric.\n",
        "\n",
        "- A histogram won't work because it shows the distribution (the frequencies of values) for just a single variable.\n",
        "- A scatterplot? No.  This will show the relationship between two *numeric* variables.\n",
        "- A line plot?  This is usually reserved for data that has a time dimension, which is displayed on the horizontal axis.  \n",
        "- A barplot?  This *could* work.  A summary statistic--mean, median, count, max, min--would be shown on the y-axis, with the categories on the x-axis.\n",
        "\n",
        "Make a barplot of average income with bars for `LEAVE` and `STAY`. Make sure to add a title as well as axis labels.\n",
        "\n",
        "Hint:  calculate a conditional mean first, then use that in the plot."
      ],
      "metadata": {
        "id": "VF0ErORSPEgJ"
      }
    },
    {
      "cell_type": "code",
      "source": [
        "# Your code goes here\n",
        "(mtc_clean.groupby('leave')['income']\n",
        " .mean()\n",
        " .plot(kind='bar', title = \"average income by churn status\",\n",
        "       ylabel=\"income\"))\n"
      ],
      "metadata": {
        "id": "4mySbpAeV7O1",
        "colab": {
          "base_uri": "https://localhost:8080/",
          "height": 519
        },
        "outputId": "2a4ba9bd-9fd0-495d-83a6-e6990e615829"
      },
      "execution_count": 11,
      "outputs": [
        {
          "output_type": "execute_result",
          "data": {
            "text/plain": [
              "<Axes: title={'center': 'average income by churn status'}, xlabel='leave', ylabel='income'>"
            ]
          },
          "metadata": {},
          "execution_count": 11
        },
        {
          "output_type": "display_data",
          "data": {
            "text/plain": [
              "<Figure size 640x480 with 1 Axes>"
            ],
            "image/png": "[encoded data removed]"
          },
          "metadata": {}
        }
      ]
    },
    {
      "cell_type": "markdown",
      "source": [
        "## Choose a different summary statistic and add a title\n",
        "\n",
        "- Update the plot so the bar heights show the median\n",
        "- Add an appropriate title and axis labels\n"
      ],
      "metadata": {
        "id": "poA2Hcv5b3Nk"
      }
    },
    {
      "cell_type": "code",
      "source": [
        "# Write your code here\n",
        "mtc_clean.groupby('leave')['income'].median().plot(kind='bar', title = \"median income by churn status\",\n",
        "       ylabel=\"income\")"
      ],
      "metadata": {
        "id": "gvSJVfRje_cj",
        "colab": {
          "base_uri": "https://localhost:8080/",
          "height": 519
        },
        "outputId": "dddd9c3f-4468-4b42-d66d-ec45e10196d0"
      },
      "execution_count": 12,
      "outputs": [
        {
          "output_type": "execute_result",
          "data": {
            "text/plain": [
              "<Axes: title={'center': 'median income by churn status'}, xlabel='leave', ylabel='income'>"
            ]
          },
          "metadata": {},
          "execution_count": 12
        },
        {
          "output_type": "display_data",
          "data": {
            "text/plain": [
              "<Figure size 640x480 with 1 Axes>"
            ],
            "image/png": "[encoded data removed]"
          },
          "metadata": {}
        }
      ]
    },
    {
      "cell_type": "markdown",
      "source": [
        "What doesn't work very well about this barplot? The information is limited; it does not show the *range* of values. The height of the bar is determined by the summary statistic we've chosen, but gives no information about the *distribution* of observations.\n",
        "\n",
        "For that, we need a *boxplot*.\n",
        "\n",
        "Pandas should take an `x` and `y` argument. Instead, it uses `by` and `column`.\n",
        "\n"
      ],
      "metadata": {
        "id": "3c54gm5YcqAg"
      }
    },
    {
      "cell_type": "code",
      "source": [
        "# Write your code here\n",
        "(mtc_clean\n",
        " .plot(kind='box', by='leave', column=\"income\",\n",
        "       title=\"income by churn status\"))"
      ],
      "metadata": {
        "collapsed": true,
        "id": "IOUteTZWQbhi",
        "colab": {
          "base_uri": "https://localhost:8080/",
          "height": 514
        },
        "outputId": "b0525c5e-2951-450c-cbc8-ceef2518da90"
      },
      "execution_count": 13,
      "outputs": [
        {
          "output_type": "execute_result",
          "data": {
            "text/plain": [
              "income    Axes(0.125,0.11;0.775x0.77)\n",
              "dtype: object"
            ]
          },
          "metadata": {},
          "execution_count": 13
        },
        {
          "output_type": "display_data",
          "data": {
            "text/plain": [
              "<Figure size 640x480 with 1 Axes>"
            ],
            "image/png": "[encoded data removed]"
          },
          "metadata": {}
        }
      ]
    },
    {
      "cell_type": "markdown",
      "source": [
        " This is fine for exploratory work, but is actually pretty bad, in that an extraneous title is added at the top of the plot.\n",
        "\n",
        " Do some research and re-create this plot using the Seaborn package. Make sure to add a title. This works a little differently in Seaborn.\n",
        "\n"
      ],
      "metadata": {
        "id": "HJ4G-HAKQdvk"
      }
    },
    {
      "cell_type": "code",
      "source": [
        "# Your code goes here\n",
        "sns.boxplot(data=mtc_clean, x='leave',y='income')\n",
        "plt.title(\"income by churn status\")"
      ],
      "metadata": {
        "id": "eSF6ZNUYNNoa",
        "colab": {
          "base_uri": "https://localhost:8080/",
          "height": 490
        },
        "outputId": "a7b7f282-a8f1-44aa-fb5d-a05024d2ecbe"
      },
      "execution_count": 14,
      "outputs": [
        {
          "output_type": "execute_result",
          "data": {
            "text/plain": [
              "Text(0.5, 1.0, 'income by churn status')"
            ]
          },
          "metadata": {},
          "execution_count": 14
        },
        {
          "output_type": "display_data",
          "data": {
            "text/plain": [
              "<Figure size 640x480 with 1 Axes>"
            ],
            "image/png": "[encoded data removed]"
          },
          "metadata": {}
        }
      ]
    },
    {
      "cell_type": "markdown",
      "source": [
        "Now we can see from the box (which represents the middle 50% of the observations, or the *central tendency* of the data) that customers who stay tend to have lower incomes than customers who leave. In general, because box plots provide information about the *distribution* of the underlying data, they are often used to show the relationship between a categorical variable like `leave` and a numeric variable like `income`."
      ],
      "metadata": {
        "id": "t8Kf0S0We959"
      }
    },
    {
      "cell_type": "markdown",
      "source": [
        "## 2. Plot the relationship between two categorical variables\n",
        "\n",
        "This is tricky.  Will a boxplot work to show the relationship between, for example, `college` and `leave`?  No. For a boxplot, one of the variables needs to be numeric.\n"
      ],
      "metadata": {
        "id": "k1Uuqt-2MAs1"
      }
    },
    {
      "cell_type": "markdown",
      "source": [
        "\n",
        "The best option in this case is a barplot, but some preparatory work is required.\n",
        "\n",
        "1. Calculate counts of college goers at each level of leave. Use the `count()` function. One detail here is that the output is a grouped series. But the `plot()` function takes a dataframe as input. Therefore you'll need to include the. `unstack()` function to return a dataframe.\n",
        "2. The height of the bars will then represent those counts.\n",
        "\n",
        "Input the following prompt into Gemini:  \"explain what unstack does and why it is called that.\""
      ],
      "metadata": {
        "id": "oB1zFZodlCK_"
      }
    },
    {
      "cell_type": "code",
      "source": [
        "# Your code goes here--calculate counts\n",
        "(mtc_clean\n",
        " .groupby(['leave', 'college'])['leave']\n",
        " .count()\n",
        ")\n",
        ""
      ],
      "metadata": {
        "id": "P8sML7Ztltzi",
        "colab": {
          "base_uri": "https://localhost:8080/"
        },
        "outputId": "d5b4d4b2-4ce7-4704-d829-5feee9530019"
      },
      "execution_count": 17,
      "outputs": [
        {
          "output_type": "execute_result",
          "data": {
            "text/plain": [
              "leave  college\n",
              "LEAVE  1          1285\n",
              "       0          1183\n",
              "STAY   1          1212\n",
              "       0          1314\n",
              "Name: leave, dtype: int64"
            ]
          },
          "metadata": {},
          "execution_count": 17
        }
      ]
    },
    {
      "cell_type": "markdown",
      "source": [
        "Now, the barplot will use the above table of counts:\n",
        "\n"
      ],
      "metadata": {
        "id": "E1hTeTFfmM-p"
      }
    },
    {
      "cell_type": "code",
      "source": [
        "# Your code goes here\n",
        "prop = lambda x: x/x.sum()\n"
      ],
      "metadata": {
        "id": "VWaWc4kCuJIM"
      },
      "execution_count": 19,
      "outputs": []
    },
    {
      "cell_type": "markdown",
      "source": [
        "This plot compares churn rates between college-educated and non-college-educated customers, showing how leaving vs staying changes with education level. In other words, it shows the *impact* of education on churn.\n",
        "\n",
        "In this case the impact is relatively negligible.\n",
        "\n",
        "This interpretation will be clearer if we make the y-axis into a *proportion* rather than a *count*.\n",
        "\n",
        "How would we do this?\n",
        "\n",
        "We'll use lambda function --  or anonymous function--in conjunction with `apply()`  from pandas.\n",
        "\n",
        "A lambda function is created on the fly by the analyst:\n",
        "\n",
        "`lambda arguments: expression`\n",
        "\n",
        "- **lambda keyword**: Signals the start of a lambda function.\n",
        "\n",
        "- **arguments**: Zero or more comma-separated arguments that the function takes.\n",
        "\n",
        "- **expression**: A single expression that is evaluated and returned as the result of the function.\n",
        "\n",
        "Here is an example:"
      ],
      "metadata": {
        "id": "TSjMXW-mw2e9"
      }
    },
    {
      "cell_type": "code",
      "source": [
        "square = lambda x: x * x\n",
        "\n",
        "square(5)"
      ],
      "metadata": {
        "id": "uV-8GoPhmW97",
        "colab": {
          "base_uri": "https://localhost:8080/"
        },
        "outputId": "6b79fae3-786f-4fb4-87ff-0c9d9c5efdf3"
      },
      "execution_count": 20,
      "outputs": [
        {
          "output_type": "execute_result",
          "data": {
            "text/plain": [
              "25"
            ]
          },
          "metadata": {},
          "execution_count": 20
        }
      ]
    },
    {
      "cell_type": "markdown",
      "source": [
        "Now create a lambda function to  turn a count variable `x` into a proportion.  Calculate the proportion for the following series, `example_series`:"
      ],
      "metadata": {
        "id": "Gfl_teufm7hi"
      }
    },
    {
      "cell_type": "code",
      "source": [
        "example_series = pd.Series([20, 18, 5, 77, 100])\n",
        "\n",
        "example_series\n"
      ],
      "metadata": {
        "id": "Yuqf7-Fhn_Ft",
        "colab": {
          "base_uri": "https://localhost:8080/"
        },
        "outputId": "66cf6cd2-ea72-4171-8807-54f0a21c6f13"
      },
      "execution_count": 21,
      "outputs": [
        {
          "output_type": "execute_result",
          "data": {
            "text/plain": [
              "0     20\n",
              "1     18\n",
              "2      5\n",
              "3     77\n",
              "4    100\n",
              "dtype: int64"
            ]
          },
          "metadata": {},
          "execution_count": 21
        }
      ]
    },
    {
      "cell_type": "code",
      "source": [
        "# Your code goes here\n",
        "prop = lambda x: x/x.sum()\n",
        "prop(example_series)\n"
      ],
      "metadata": {
        "id": "zUQR1XVsp69a",
        "colab": {
          "base_uri": "https://localhost:8080/"
        },
        "outputId": "37e96105-a68e-4a5e-9620-232f2321b4b5"
      },
      "execution_count": 22,
      "outputs": [
        {
          "output_type": "execute_result",
          "data": {
            "text/plain": [
              "0    0.090909\n",
              "1    0.081818\n",
              "2    0.022727\n",
              "3    0.350000\n",
              "4    0.454545\n",
              "dtype: float64"
            ]
          },
          "metadata": {},
          "execution_count": 22
        }
      ]
    },
    {
      "cell_type": "markdown",
      "source": [
        "The next task is to change the `leave` variable in the count table into  proportions.  We use `apply()` the apply the lambda function created above to a column.  The syntax is:\n",
        "\n",
        "`.apply(lambda, axis = 1)`\n",
        "\n",
        "`axis = 1` means that the function is being applied to  columns."
      ],
      "metadata": {
        "id": "dwCxRVyXqkoL"
      }
    },
    {
      "cell_type": "code",
      "source": [
        "from os import uname\n",
        "# your  code goes here\n",
        "(mtc_clean.groupby(['leave', 'college'])['leave']\n",
        " .count()\n",
        " .unstack()\n",
        " .apply(lambda x: x/x.sum(), axis=1)\n",
        ")\n",
        "\n"
      ],
      "metadata": {
        "id": "uaBcQsLjnaK8",
        "colab": {
          "base_uri": "https://localhost:8080/",
          "height": 143
        },
        "outputId": "761836d6-1329-44e7-ae85-a8e9016f6316"
      },
      "execution_count": 23,
      "outputs": [
        {
          "output_type": "execute_result",
          "data": {
            "text/plain": [
              "college         1         0\n",
              "leave                      \n",
              "LEAVE    0.520665  0.479335\n",
              "STAY     0.479810  0.520190"
            ],
            "text/html": [
              "\n",
              "  <div id=\"df-69aa295e-10c6-4059-957d-396568e2d434\" class=\"colab-df-container\">\n",
              "    <div>\n",
              "<style scoped>\n",
              "    .dataframe tbody tr th:only-of-type {\n",
              "        vertical-align: middle;\n",
              "    }\n",
              "\n",
              "    .dataframe tbody tr th {\n",
              "        vertical-align: top;\n",
              "    }\n",
              "\n",
              "    .dataframe thead th {\n",
              "        text-align: right;\n",
              "    }\n",
              "</style>\n",
              "<table border=\"1\" class=\"dataframe\">\n",
              "  <thead>\n",
              "    <tr style=\"text-align: right;\">\n",
              "      <th>college</th>\n",
              "      <th>1</th>\n",
              "      <th>0</th>\n",
              "    </tr>\n",
              "    <tr>\n",
              "      <th>leave</th>\n",
              "      <th></th>\n",
              "      <th></th>\n",
              "    </tr>\n",
              "  </thead>\n",
              "  <tbody>\n",
              "    <tr>\n",
              "      <th>LEAVE</th>\n",
              "      <td>0.520665</td>\n",
              "      <td>0.479335</td>\n",
              "    </tr>\n",
              "    <tr>\n",
              "      <th>STAY</th>\n",
              "      <td>0.479810</td>\n",
              "      <td>0.520190</td>\n",
              "    </tr>\n",
              "  </tbody>\n",
              "</table>\n",
              "</div>\n",
              "    <div class=\"colab-df-buttons\">\n",
              "\n",
              "  <div class=\"colab-df-container\">\n",
              "    <button class=\"colab-df-convert\" onclick=\"convertToInteractive('df-69aa295e-10c6-4059-957d-396568e2d434')\"\n",
              "            title=\"Convert this dataframe to an interactive table.\"\n",
              "            style=\"display:none;\">\n",
              "\n",
              "  <svg xmlns=\"http://www.w3.org/2000/svg\" height=\"24px\" viewBox=\"0 -960 960 960\">\n",
              "    <path d=\"M120-120v-720h720v720H120Zm60-500h600v-160H180v160Zm220 220h160v-160H400v160Zm0 220h160v-160H400v160ZM180-400h160v-160H180v160Zm440 0h160v-160H620v160ZM180-180h160v-160H180v160Zm440 0h160v-160H620v160Z\"/>\n",
              "  </svg>\n",
              "    </button>\n",
              "\n",
              "  <style>\n",
              "    .colab-df-container {\n",
              "      display:flex;\n",
              "      gap: 12px;\n",
              "    }\n",
              "\n",
              "    .colab-df-convert {\n",
              "      background-color: #E8F0FE;\n",
              "      border: none;\n",
              "      border-radius: 50%;\n",
              "      cursor: pointer;\n",
              "      display: none;\n",
              "      fill: #1967D2;\n",
              "      height: 32px;\n",
              "      padding: 0 0 0 0;\n",
              "      width: 32px;\n",
              "    }\n",
              "\n",
              "    .colab-df-convert:hover {\n",
              "      background-color: #E2EBFA;\n",
              "      box-shadow: 0px 1px 2px rgba(60, 64, 67, 0.3), 0px 1px 3px 1px rgba(60, 64, 67, 0.15);\n",
              "      fill: #174EA6;\n",
              "    }\n",
              "\n",
              "    .colab-df-buttons div {\n",
              "      margin-bottom: 4px;\n",
              "    }\n",
              "\n",
              "    [theme=dark] .colab-df-convert {\n",
              "      background-color: #3B4455;\n",
              "      fill: #D2E3FC;\n",
              "    }\n",
              "\n",
              "    [theme=dark] .colab-df-convert:hover {\n",
              "      background-color: #434B5C;\n",
              "      box-shadow: 0px 1px 3px 1px rgba(0, 0, 0, 0.15);\n",
              "      filter: drop-shadow(0px 1px 2px rgba(0, 0, 0, 0.3));\n",
              "      fill: #FFFFFF;\n",
              "    }\n",
              "  </style>\n",
              "\n",
              "    <script>\n",
              "      const buttonEl =\n",
              "        document.querySelector('#df-69aa295e-10c6-4059-957d-396568e2d434 button.colab-df-convert');\n",
              "      buttonEl.style.display =\n",
              "        google.colab.kernel.accessAllowed ? 'block' : 'none';\n",
              "\n",
              "      async function convertToInteractive(key) {\n",
              "        const element = document.querySelector('#df-69aa295e-10c6-4059-957d-396568e2d434');\n",
              "        const dataTable =\n",
              "          await google.colab.kernel.invokeFunction('convertToInteractive',\n",
              "                                                    [key], {});\n",
              "        if (!dataTable) return;\n",
              "\n",
              "        const docLinkHtml = 'Like what you see? Visit the ' +\n",
              "          '<a target=\"_blank\" href=https://colab.research.google.com/notebooks/data_table.ipynb>data table notebook</a>'\n",
              "          + ' to learn more about interactive tables.';\n",
              "        element.innerHTML = '';\n",
              "        dataTable['output_type'] = 'display_data';\n",
              "        await google.colab.output.renderOutput(dataTable, element);\n",
              "        const docLink = document.createElement('div');\n",
              "        docLink.innerHTML = docLinkHtml;\n",
              "        element.appendChild(docLink);\n",
              "      }\n",
              "    </script>\n",
              "  </div>\n",
              "\n",
              "\n",
              "<div id=\"df-ec96d1a3-64f7-4481-99ed-d0ab4873f887\">\n",
              "  <button class=\"colab-df-quickchart\" onclick=\"quickchart('df-ec96d1a3-64f7-4481-99ed-d0ab4873f887')\"\n",
              "            title=\"Suggest charts\"\n",
              "            style=\"display:none;\">\n",
              "\n",
              "<svg xmlns=\"http://www.w3.org/2000/svg\" height=\"24px\"viewBox=\"0 0 24 24\"\n",
              "     width=\"24px\">\n",
              "    <g>\n",
              "        <path d=\"M19 3H5c-1.1 0-2 .9-2 2v14c0 1.1.9 2 2 2h14c1.1 0 2-.9 2-2V5c0-1.1-.9-2-2-2zM9 17H7v-7h2v7zm4 0h-2V7h2v10zm4 0h-2v-4h2v4z\"/>\n",
              "    </g>\n",
              "</svg>\n",
              "  </button>\n",
              "\n",
              "<style>\n",
              "  .colab-df-quickchart {\n",
              "      --bg-color: #E8F0FE;\n",
              "      --fill-color: #1967D2;\n",
              "      --hover-bg-color: #E2EBFA;\n",
              "      --hover-fill-color: #174EA6;\n",
              "      --disabled-fill-color: #AAA;\n",
              "      --disabled-bg-color: #DDD;\n",
              "  }\n",
              "\n",
              "  [theme=dark] .colab-df-quickchart {\n",
              "      --bg-color: #3B4455;\n",
              "      --fill-color: #D2E3FC;\n",
              "      --hover-bg-color: #434B5C;\n",
              "      --hover-fill-color: #FFFFFF;\n",
              "      --disabled-bg-color: #3B4455;\n",
              "      --disabled-fill-color: #666;\n",
              "  }\n",
              "\n",
              "  .colab-df-quickchart {\n",
              "    background-color: var(--bg-color);\n",
              "    border: none;\n",
              "    border-radius: 50%;\n",
              "    cursor: pointer;\n",
              "    display: none;\n",
              "    fill: var(--fill-color);\n",
              "    height: 32px;\n",
              "    padding: 0;\n",
              "    width: 32px;\n",
              "  }\n",
              "\n",
              "  .colab-df-quickchart:hover {\n",
              "    background-color: var(--hover-bg-color);\n",
              "    box-shadow: 0 1px 2px rgba(60, 64, 67, 0.3), 0 1px 3px 1px rgba(60, 64, 67, 0.15);\n",
              "    fill: var(--button-hover-fill-color);\n",
              "  }\n",
              "\n",
              "  .colab-df-quickchart-complete:disabled,\n",
              "  .colab-df-quickchart-complete:disabled:hover {\n",
              "    background-color: var(--disabled-bg-color);\n",
              "    fill: var(--disabled-fill-color);\n",
              "    box-shadow: none;\n",
              "  }\n",
              "\n",
              "  .colab-df-spinner {\n",
              "    border: 2px solid var(--fill-color);\n",
              "    border-color: transparent;\n",
              "    border-bottom-color: var(--fill-color);\n",
              "    animation:\n",
              "      spin 1s steps(1) infinite;\n",
              "  }\n",
              "\n",
              "  @keyframes spin {\n",
              "    0% {\n",
              "      border-color: transparent;\n",
              "      border-bottom-color: var(--fill-color);\n",
              "      border-left-color: var(--fill-color);\n",
              "    }\n",
              "    20% {\n",
              "      border-color: transparent;\n",
              "      border-left-color: var(--fill-color);\n",
              "      border-top-color: var(--fill-color);\n",
              "    }\n",
              "    30% {\n",
              "      border-color: transparent;\n",
              "      border-left-color: var(--fill-color);\n",
              "      border-top-color: var(--fill-color);\n",
              "      border-right-color: var(--fill-color);\n",
              "    }\n",
              "    40% {\n",
              "      border-color: transparent;\n",
              "      border-right-color: var(--fill-color);\n",
              "      border-top-color: var(--fill-color);\n",
              "    }\n",
              "    60% {\n",
              "      border-color: transparent;\n",
              "      border-right-color: var(--fill-color);\n",
              "    }\n",
              "    80% {\n",
              "      border-color: transparent;\n",
              "      border-right-color: var(--fill-color);\n",
              "      border-bottom-color: var(--fill-color);\n",
              "    }\n",
              "    90% {\n",
              "      border-color: transparent;\n",
              "      border-bottom-color: var(--fill-color);\n",
              "    }\n",
              "  }\n",
              "</style>\n",
              "\n",
              "  <script>\n",
              "    async function quickchart(key) {\n",
              "      const quickchartButtonEl =\n",
              "        document.querySelector('#' + key + ' button');\n",
              "      quickchartButtonEl.disabled = true;  // To prevent multiple clicks.\n",
              "      quickchartButtonEl.classList.add('colab-df-spinner');\n",
              "      try {\n",
              "        const charts = await google.colab.kernel.invokeFunction(\n",
              "            'suggestCharts', [key], {});\n",
              "      } catch (error) {\n",
              "        console.error('Error during call to suggestCharts:', error);\n",
              "      }\n",
              "      quickchartButtonEl.classList.remove('colab-df-spinner');\n",
              "      quickchartButtonEl.classList.add('colab-df-quickchart-complete');\n",
              "    }\n",
              "    (() => {\n",
              "      let quickchartButtonEl =\n",
              "        document.querySelector('#df-ec96d1a3-64f7-4481-99ed-d0ab4873f887 button');\n",
              "      quickchartButtonEl.style.display =\n",
              "        google.colab.kernel.accessAllowed ? 'block' : 'none';\n",
              "    })();\n",
              "  </script>\n",
              "</div>\n",
              "\n",
              "    </div>\n",
              "  </div>\n"
            ],
            "application/vnd.google.colaboratory.intrinsic+json": {
              "type": "dataframe",
              "summary": "{\n  \"name\": \")\",\n  \"rows\": 2,\n  \"fields\": [\n    {\n      \"column\": \"leave\",\n      \"properties\": {\n        \"dtype\": \"category\",\n        \"num_unique_values\": 2,\n        \"samples\": [\n          \"STAY\",\n          \"LEAVE\"\n        ],\n        \"semantic_type\": \"\",\n        \"description\": \"\"\n      }\n    },\n    {\n      \"column\": 1,\n      \"properties\": {\n        \"dtype\": \"number\",\n        \"std\": 0.028888514799011895,\n        \"min\": 0.47980997624703087,\n        \"max\": 0.5206645056726094,\n        \"num_unique_values\": 2,\n        \"samples\": [\n          0.47980997624703087,\n          0.5206645056726094\n        ],\n        \"semantic_type\": \"\",\n        \"description\": \"\"\n      }\n    },\n    {\n      \"column\": 0,\n      \"properties\": {\n        \"dtype\": \"number\",\n        \"std\": 0.028888514799011895,\n        \"min\": 0.4793354943273906,\n        \"max\": 0.5201900237529691,\n        \"num_unique_values\": 2,\n        \"samples\": [\n          0.5201900237529691,\n          0.4793354943273906\n        ],\n        \"semantic_type\": \"\",\n        \"description\": \"\"\n      }\n    }\n  ]\n}"
            }
          },
          "metadata": {},
          "execution_count": 23
        }
      ]
    },
    {
      "cell_type": "markdown",
      "source": [
        "Next task is to use this proportion table to create a bar plot."
      ],
      "metadata": {
        "id": "oriEqVaNresX"
      }
    },
    {
      "cell_type": "code",
      "source": [
        "# Your code goes here--Make the plot\n",
        "(mtc_clean\n",
        " .groupby(['college','leave'])['leave']\n",
        " .count() # Removed extra indent here\n",
        " .unstack()\n",
        " .apply(lambda x: x/x.sum(), axis=1)\n",
        ").plot(kind='bar', title=\"college vs leave\",ylabel=\"proportion\") # Removed extra ')' here"
      ],
      "metadata": {
        "id": "0kMm2a7xzDk2",
        "colab": {
          "base_uri": "https://localhost:8080/",
          "height": 485
        },
        "outputId": "1f4fcc91-2f2a-453f-b282-ce25274dfb90"
      },
      "execution_count": 25,
      "outputs": [
        {
          "output_type": "execute_result",
          "data": {
            "text/plain": [
              "<Axes: title={'center': 'college vs leave'}, xlabel='college', ylabel='proportion'>"
            ]
          },
          "metadata": {},
          "execution_count": 25
        },
        {
          "output_type": "display_data",
          "data": {
            "text/plain": [
              "<Figure size 640x480 with 1 Axes>"
            ],
            "image/png": "[encoded data removed]"
          },
          "metadata": {}
        }
      ]
    },
    {
      "cell_type": "markdown",
      "source": [
        "This plot should show  that leaving and staying is about 50% for college and non-college customers. That is, the difference is negligible."
      ],
      "metadata": {
        "id": "49v5aPnZzNLW"
      }
    },
    {
      "cell_type": "markdown",
      "source": [
        " Fine-tune your plot\n",
        "\n",
        "1. Add a title\n",
        "2. Add an appropriate y-axis label."
      ],
      "metadata": {
        "id": "AoFvYzMyzaBw"
      }
    },
    {
      "cell_type": "code",
      "source": [
        "# Write your code here\n",
        "(mtc_clean\n",
        " .groupby(['college','leave'])['leave']\n",
        " .count()\n",
        ".unstack() \\\n",
        ".apply(lambda x: x/x.sum(),axis=1) \\\n",
        ".plot(kind='bar', title='college vs leave',ylabel='proportion'))\n"
      ],
      "metadata": {
        "id": "Twrne6sVzwZn",
        "colab": {
          "base_uri": "https://localhost:8080/",
          "height": 485
        },
        "outputId": "6319c2d9-1a08-42c8-e00a-27f697ca8d28"
      },
      "execution_count": 45,
      "outputs": [
        {
          "output_type": "execute_result",
          "data": {
            "text/plain": [
              "<Axes: title={'center': 'college vs leave'}, xlabel='college', ylabel='proportion'>"
            ]
          },
          "metadata": {},
          "execution_count": 45
        },
        {
          "output_type": "display_data",
          "data": {
            "text/plain": [
              "<Figure size 640x480 with 1 Axes>"
            ],
            "image/png": "[encoded data removed]"
          },
          "metadata": {}
        }
      ]
    },
    {
      "cell_type": "markdown",
      "source": [
        "## More practice with plots\n",
        "\n",
        "Recreate the plots from the lecture:\n",
        "\n",
        "1. A plot asnwering the question \"is churn related to wealth\"?\n",
        "2. Display the distribution of house prices by churn status\n",
        "3. Is churn related to phone usage?\n",
        "4. Is churn related to satisfaction?\n",
        "\n",
        "Make a brief comment on the meaning of the plot for understanding churn.\n",
        "\n"
      ],
      "metadata": {
        "id": "UqhQHUs7sCoF"
      }
    },
    {
      "cell_type": "code",
      "source": [
        "# Write your code here\n",
        "(mtc_clean\n",
        " .plot(kind = 'box', by = 'leave', column = 'house',\n",
        "title=\"house prices by churn status\"))"
      ],
      "metadata": {
        "id": "JYzJqRA2tdQq",
        "colab": {
          "base_uri": "https://localhost:8080/",
          "height": 514
        },
        "outputId": "8fa67139-0ea1-42e3-e97f-3ef5a6e269c6"
      },
      "execution_count": 31,
      "outputs": [
        {
          "output_type": "execute_result",
          "data": {
            "text/plain": [
              "house    Axes(0.125,0.11;0.775x0.77)\n",
              "dtype: object"
            ]
          },
          "metadata": {},
          "execution_count": 31
        },
        {
          "output_type": "display_data",
          "data": {
            "text/plain": [
              "<Figure size 640x480 with 1 Axes>"
            ],
            "image/png": "[encoded data removed]"
          },
          "metadata": {}
        }
      ]
    },
    {
      "cell_type": "code",
      "source": [
        "# Write your code here\n",
        "sns.boxplot(data=mtc_clean, x='income',hue = 'leave')\n",
        "plt.title('income distribution')\n",
        "plt.show()"
      ],
      "metadata": {
        "id": "Vfiu4NydtqU4",
        "colab": {
          "base_uri": "https://localhost:8080/",
          "height": 472
        },
        "outputId": "cb3846b4-14f6-4916-d64f-2bc33b5dc4de"
      },
      "execution_count": 32,
      "outputs": [
        {
          "output_type": "display_data",
          "data": {
            "text/plain": [
              "<Figure size 640x480 with 1 Axes>"
            ],
            "image/png": "[encoded data removed]"
          },
          "metadata": {}
        }
      ]
    },
    {
      "cell_type": "code",
      "source": [
        "# Write your code here\n",
        "(mtc_clean\n",
        " .groupby(['college','leave'])['leave']\n",
        " .count()\n",
        ".unstack() \\\n",
        ".apply(lambda x: x/x.sum(),axis=1) \\\n",
        ".plot(kind='bar', title='college vs leave',ylabel='proportion'))"
      ],
      "metadata": {
        "id": "qAqEi2INtrO-",
        "colab": {
          "base_uri": "https://localhost:8080/",
          "height": 485
        },
        "outputId": "85cc3aca-d260-4902-a237-18baee111a5e"
      },
      "execution_count": 37,
      "outputs": [
        {
          "output_type": "execute_result",
          "data": {
            "text/plain": [
              "<Axes: title={'center': 'college vs leave'}, xlabel='college', ylabel='proportion'>"
            ]
          },
          "metadata": {},
          "execution_count": 37
        },
        {
          "output_type": "display_data",
          "data": {
            "text/plain": [
              "<Figure size 640x480 with 1 Axes>"
            ],
            "image/png": "[encoded data removed]"
          },
          "metadata": {}
        }
      ]
    },
    {
      "cell_type": "code",
      "source": [
        "# Write your code here\n",
        "(mtc_clean\n",
        " .plot(kind='box',by='leave',column='over_15mins_calls_per_month'))"
      ],
      "metadata": {
        "id": "qw4dIRM4tsG6",
        "colab": {
          "base_uri": "https://localhost:8080/",
          "height": 488
        },
        "outputId": "554b4cb3-78c8-488e-8405-8cde0b9cdcad"
      },
      "execution_count": 35,
      "outputs": [
        {
          "output_type": "execute_result",
          "data": {
            "text/plain": [
              "over_15mins_calls_per_month    Axes(0.125,0.11;0.775x0.77)\n",
              "dtype: object"
            ]
          },
          "metadata": {},
          "execution_count": 35
        },
        {
          "output_type": "display_data",
          "data": {
            "text/plain": [
              "<Figure size 640x480 with 1 Axes>"
            ],
            "image/png": "[encoded data removed]"
          },
          "metadata": {}
        }
      ]
    },
    {
      "cell_type": "markdown",
      "source": [
        "## EDA\n",
        "\n",
        "Think about the drivers of churn.  Pose another question about what might cause customer churn and create a plot to answer that question. Make sure to comment on the meaning of the plot for understanding churn."
      ],
      "metadata": {
        "id": "rlSQC3wny36g"
      }
    },
    {
      "cell_type": "code",
      "source": [
        "# Is churn related to having long distance calls?\n",
        "(mtc_clean\n",
        " .groupby(['over_15mins_calls_per_month','leave'])['leave']\n",
        " .count()\n",
        " .unstack()\n",
        " .apply(lambda x: x/x.sum(), axis=1)\n",
        " .plot(kind='bar', title=\"long distance vs leave\",ylabel=\"proportion\"))\n",
        "\n"
      ],
      "metadata": {
        "id": "OXTJLvulzHdI",
        "colab": {
          "base_uri": "https://localhost:8080/",
          "height": 507
        },
        "outputId": "5a08b47d-1de3-4f9b-e493-96e28652dd0e"
      },
      "execution_count": 44,
      "outputs": [
        {
          "output_type": "execute_result",
          "data": {
            "text/plain": [
              "<Axes: title={'center': 'long distance vs leave'}, xlabel='over_15mins_calls_per_month', ylabel='proportion'>"
            ]
          },
          "metadata": {},
          "execution_count": 44
        },
        {
          "output_type": "display_data",
          "data": {
            "text/plain": [
              "<Figure size 640x480 with 1 Axes>"
            ],
            "image/png": "[encoded data removed]"
          },
          "metadata": {}
        }
      ]
    },
    {
      "cell_type": "markdown",
      "source": [
        "# Functions:\n",
        "\n",
        "- `pd.read_csv()`: Reads a CSV file into a pandas DataFrame.\n",
        "- `.info()`: Prints a concise summary of a DataFrame, including column names, non-null counts, and data types.\n",
        "- `.dropna()`: Removes rows with missing values from a DataFrame.\n",
        "- `.astype()`: Casts a pandas object to a specified dtype.\n",
        "- `.groupby()`: Groups DataFrame using a mapper or by a Series of columns.\n",
        "- `.mean()`: Returns the mean of the values for the requested axis.\n",
        "- `.plot()`: Creates a plot of the data in a DataFrame or Series.\n",
        "- `.median()`: Returns the median of the values for the requested axis.\n",
        "- `.count()`: Counts non-null values in a Series or DataFrame.\n",
        "- `.unstack()`: Pivots a level of the index labels.\n",
        "- `.apply()`: Applies a function along an axis of the DataFrame.\n",
        "- `lambda`: Creates an anonymous function.\n",
        "- `sum()`: Returns the sum of a Series or DataFrame elements."
      ],
      "metadata": {
        "id": "jLpYzCB93b8m"
      }
    }
  ],
  "metadata": {
    "language_info": {
      "name": "python"
    },
    "colab": {
      "provenance": [],
      "toc_visible": true,
      "include_colab_link": true
    },
    "kernelspec": {
      "name": "python3",
      "display_name": "Python 3"
    }
  },
  "nbformat": 4,
  "nbformat_minor": 0
}