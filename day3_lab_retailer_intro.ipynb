{
  "cells": [
    {
      "cell_type": "markdown",
      "metadata": {
        "id": "zCEcl_WDcUsv"
      },
      "source": [
        "# Day 3 Lab, IS 4487\n",
        "\n",
        "Outline\n",
        "\n",
        "Repeat exercises from Lab 2, for practice, but with the *SuperStore Retail Orders* dataset\n",
        "\n",
        "- Loading installed packages\n",
        "- Inspect data\n",
        "- Clean data\n",
        "- Summarize data\n",
        "- Explore plot types and search for insights\n",
        "\n",
        "Please use the Gemini AI tool to get coding ideas.\n",
        "\n"
      ]
    },
    {
      "cell_type": "markdown",
      "source": [
        "# Notebook Instructions\n",
        "- Remember to save a copy of the notebook in Drive so that you can save your changes.\n",
        "- Complete the Assignment Tasks.\n",
        "- When you are done revising this notebook save your changes to GitHub and upload the URL for the file to Canvas for the assignment.\n",
        "- Some of these assignments ask you to do things we have not covered yet.  Use AI to come up with a solution."
      ],
      "metadata": {
        "id": "aXtYp4npljXj"
      }
    },
    {
      "cell_type": "markdown",
      "metadata": {
        "id": "hNWAPvcacUsw"
      },
      "source": [
        "# Load Libraries\n",
        "\n",
        "➡️ Assignment Tasks\n",
        "- Load Pandas"
      ]
    },
    {
      "cell_type": "code",
      "source": [
        "# your code goes here\n",
        "\n"
      ],
      "metadata": {
        "id": "klSlXHCjl5-Y"
      },
      "execution_count": null,
      "outputs": []
    },
    {
      "cell_type": "markdown",
      "source": [
        "# Load Data"
      ],
      "metadata": {
        "id": "utt37UKSc6lC"
      }
    },
    {
      "cell_type": "code",
      "source": [
        "ss = pd.read_csv(\"https://raw.githubusercontent.com/jefftwebb/is_4487_base/main/Labs/DataSets/superstore_retail_orders.csv\")"
      ],
      "metadata": {
        "id": "0ichdtamdD7y"
      },
      "execution_count": null,
      "outputs": []
    },
    {
      "cell_type": "markdown",
      "metadata": {
        "id": "uasJvGvEcUsx"
      },
      "source": [
        "# Summarize and Review Data\n",
        "\n",
        "➡️ Assignment Tasks\n",
        "\n",
        "- Describe or profile the dataframe"
      ]
    },
    {
      "cell_type": "code",
      "source": [
        "# Your code goes here"
      ],
      "metadata": {
        "id": "PrD_cKevUevR"
      },
      "execution_count": null,
      "outputs": []
    },
    {
      "cell_type": "code",
      "source": [],
      "metadata": {
        "id": "7GWAC3alVHjZ"
      },
      "execution_count": null,
      "outputs": []
    },
    {
      "cell_type": "code",
      "source": [],
      "metadata": {
        "id": "ehR4D37HVgpm"
      },
      "execution_count": null,
      "outputs": []
    },
    {
      "cell_type": "markdown",
      "metadata": {
        "id": "BPcop5yDcUsx"
      },
      "source": [
        "# Prepare Data\n",
        "\n",
        "➡️ Assignment Tasks\n",
        "- Remove rows with empty (NULL) values\n",
        "- Locate outliers in any of the variables.   Filter them out if they appear to be mistakes; keep them if they are exceptional cases.\n",
        "- Create a new field: total_purchase. This should be product_price x quantity."
      ]
    },
    {
      "cell_type": "code",
      "source": [
        "# Drop NAs"
      ],
      "metadata": {
        "id": "f-b2lDVvWzQa"
      },
      "execution_count": null,
      "outputs": []
    },
    {
      "cell_type": "code",
      "execution_count": null,
      "metadata": {
        "vscode": {
          "languageId": "plaintext"
        },
        "id": "KtrPeA1AcUsx"
      },
      "outputs": [],
      "source": [
        "# Search for and filter outliers"
      ]
    },
    {
      "cell_type": "code",
      "source": [
        "# create total_purchase"
      ],
      "metadata": {
        "id": "0QztZrVSay-m"
      },
      "execution_count": null,
      "outputs": []
    },
    {
      "cell_type": "markdown",
      "source": [
        "Check that your cleaning worked"
      ],
      "metadata": {
        "id": "Wr82vY3grf3K"
      }
    },
    {
      "cell_type": "code",
      "source": [
        "# your code goes here"
      ],
      "metadata": {
        "id": "onexdv1ormJo"
      },
      "execution_count": null,
      "outputs": []
    },
    {
      "cell_type": "markdown",
      "metadata": {
        "id": "rV14NAbkcUsx"
      },
      "source": [
        "# Summarize Data\n",
        "\n",
        "➡️ Assignment Tasks\n",
        "- Calculate the average price per year-month\n",
        "- Calculate the total revenue per year month\n",
        "\n",
        "Does more cleaning need to be done? If so, do it and then recreate the above summary tables."
      ]
    },
    {
      "cell_type": "code",
      "execution_count": null,
      "metadata": {
        "vscode": {
          "languageId": "plaintext"
        },
        "id": "-pnCkc3CcUsx"
      },
      "outputs": [],
      "source": [
        "# average price\n"
      ]
    },
    {
      "cell_type": "code",
      "execution_count": null,
      "metadata": {
        "vscode": {
          "languageId": "plaintext"
        },
        "id": "KUq0h-4PcUsy"
      },
      "outputs": [],
      "source": [
        "# total revenue\n"
      ]
    },
    {
      "cell_type": "markdown",
      "source": [
        "# Plot Data\n",
        "\n",
        "➡️ Assignment Tasks\n",
        "- Produce two plots that show patterns or relationships in the data.\n",
        "- Interpret these patterns for potential value to the business.  "
      ],
      "metadata": {
        "id": "zY7mwXAFmu8i"
      }
    },
    {
      "cell_type": "code",
      "source": [
        "# Your code goes here.  Plot 1"
      ],
      "metadata": {
        "id": "TBkuVxipmJPS"
      },
      "execution_count": null,
      "outputs": []
    },
    {
      "cell_type": "code",
      "source": [
        "# Your code goes here.  Plot 2"
      ],
      "metadata": {
        "id": "L3Z0NdFLnUB9"
      },
      "execution_count": null,
      "outputs": []
    },
    {
      "cell_type": "markdown",
      "source": [
        "Make an interpretive comment."
      ],
      "metadata": {
        "id": "pfFlJJQ2r_d8"
      }
    }
  ],
  "metadata": {
    "language_info": {
      "name": "python"
    },
    "colab": {
      "provenance": [],
      "toc_visible": true
    },
    "kernelspec": {
      "name": "python3",
      "display_name": "Python 3"
    }
  },
  "nbformat": 4,
  "nbformat_minor": 0
}