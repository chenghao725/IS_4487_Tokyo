{
  "nbformat": 4,
  "nbformat_minor": 0,
  "metadata": {
    "colab": {
      "provenance": [],
      "authorship_tag": "ABX9TyPqx0ZwWaZ8K8iJuvtENUeh"
    },
    "kernelspec": {
      "name": "python3",
      "display_name": "Python 3"
    },
    "language_info": {
      "name": "python"
    }
  },
  "cells": [
    {
      "cell_type": "markdown",
      "source": [
        "Data"
      ],
      "metadata": {
        "id": "xjLcVwMFa003"
      }
    },
    {
      "cell_type": "code",
      "execution_count": null,
      "metadata": {
        "id": "j7dzQj8_ZVcc"
      },
      "outputs": [],
      "source": [
        "ai = pd.read_csv(\"https://raw.githubusercontent.com/jefftwebb/IS_4487_Tokyo/main/adviseinvest.csv\")"
      ]
    }
  ]
}