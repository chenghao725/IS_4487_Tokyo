{
  "cells": [
    {
      "cell_type": "markdown",
      "metadata": {
        "id": "p_Yu45OYdj3Y"
      },
      "source": [
        "# Day 8 Lab, IS 4487\n",
        "\n",
        "What do you need to know how to do for today's project?\n",
        "\n",
        "1. Fit a tree model using all the available predictors.\n",
        "2. Create a confusion matrix  and identify numbers of TP, FP, TN and FN.\n",
        "3. Estimate profit (benefits - costs) using a defined cost-benefit matrix and a confusion matrix for:\n",
        "  - all customers\n",
        "  - only the customer predicted to answer\n",
        "\n",
        "Of course, for this lab we'll be using the MegaTelCo data, in which case the target is `leave` not `answer`.  \n",
        "\n",
        "Note that the first set of steps below is identical to what we did in the previous lab.\n",
        "\n",
        "\n"
      ]
    },
    {
      "cell_type": "markdown",
      "metadata": {
        "id": "UE93RwXhgiJS"
      },
      "source": [
        "#Load Libraries\n"
      ]
    },
    {
      "cell_type": "code",
      "execution_count": null,
      "metadata": {
        "id": "JYRZY5n0gfNe"
      },
      "outputs": [],
      "source": [
        "# Import packages needed for the classification tree\n",
        "from sklearn.tree import plot_tree\n",
        "from sklearn import tree\n",
        "from sklearn.tree import DecisionTreeClassifier, export_graphviz # Import Decision Tree Classifier\n",
        "import pandas as pd\n",
        "import matplotlib.pyplot as plt\n",
        "import numpy as np\n"
      ]
    },
    {
      "cell_type": "markdown",
      "metadata": {
        "id": "bREaXo8jfu-O"
      },
      "source": [
        "# Get Data\n"
      ]
    },
    {
      "cell_type": "code",
      "execution_count": null,
      "metadata": {
        "id": "udYgkb6I3SJo"
      },
      "outputs": [],
      "source": [
        "mtc = pd.read_csv(\"https://raw.githubusercontent.com/jefftwebb/is_4487_base/dd870389117d5b24eee7417d5378d80496555130/Labs/DataSets/megatelco_leave_survey.csv\")"
      ]
    },
    {
      "cell_type": "markdown",
      "metadata": {
        "id": "BtxOWvFlKzgE"
      },
      "source": [
        "# Clean data\n",
        "\n",
        "Perform the cleaning from the previous labs:\n",
        "\n",
        "- Make a copy of the data\n",
        "- Remove negative values of income and house\n",
        "- Remove absurdly large value of handset_price\n",
        "- Remove NAs\n",
        "- Change college to yes and no\n",
        "- Make string variables into categorical variables.\n",
        "- Convert the now ordered categorical levels into integers.\n"
      ]
    },
    {
      "cell_type": "code",
      "execution_count": null,
      "metadata": {
        "id": "7KXLvMcBK8Za"
      },
      "outputs": [],
      "source": [
        "# Make explicit copy\n",
        "mtc_clean = mtc.copy()\n",
        "\n",
        "# filter rows\n",
        "mtc_clean = mtc[(mtc['house'] > 0) & (mtc['income'] > 0) & (mtc['handset_price'] < 1000)]\n",
        "\n",
        "# remove NAs\n",
        "mtc_clean = mtc_clean.dropna()\n",
        "\n",
        "# Recode college\n",
        "mtc_clean['college'] = mtc_clean['college'].replace({'one': 'yes', 'zero': 'no'})\n",
        "\n",
        "# change reported usage and reported satisfaction (ordered)\n",
        "mtc_clean['college'] = pd.Categorical(mtc_clean['college'],\n",
        "                                    ordered = False).codes\n",
        "\n",
        "mtc_clean['considering_change_of_plan'] = pd.Categorical(mtc_clean['considering_change_of_plan'],\n",
        "                                    ordered = False).codes\n",
        "\n",
        "# change reported usage and reported satisfaction (ordered)\n",
        "mtc_clean['reported_usage_level'] = pd.Categorical(mtc_clean['reported_usage_level'],\n",
        "                                    categories = ['low', 'avg','high'],\n",
        "                                    ordered = True).codes\n",
        "\n",
        "mtc_clean['reported_satisfaction'] = pd.Categorical(mtc_clean['reported_satisfaction'],\n",
        "                                    categories = ['low', 'avg','high'],\n",
        "                                    ordered = True).codes\n",
        "\n",
        "\n"
      ]
    },
    {
      "cell_type": "markdown",
      "metadata": {
        "id": "Zp7wGDqJ4iuL"
      },
      "source": [
        "# Fit full model\n",
        "\n",
        "1. Split the data into train and test sets\n",
        "2. Fit the model to the train set using `max_depth = 4` to keep the tree simple and prevent overfitting."
      ]
    },
    {
      "cell_type": "code",
      "execution_count": null,
      "metadata": {
        "id": "gvMekcKg4y5X"
      },
      "outputs": [],
      "source": [
        "# 1. divide mtc_clean into train and test\n",
        "train = mtc_clean.sample(frac=0.8, random_state=200) # 80% of data for training\n",
        "test = mtc_clean.drop(train.index) # the remaining 20%\n",
        "\n",
        "\n",
        "# 2. Define X and y in train and test\n",
        "X_train = train.drop(['id', 'leave'], axis = 1)\n",
        "y_train = train['leave']\n",
        "\n",
        "X_test = test.drop(['id', 'leave'], axis = 1)\n",
        "y_test = test['leave']\n",
        "\n",
        "# 3.  Initialize model, specifying max_depth = 4\n",
        "full_tree = DecisionTreeClassifier(criterion = \"entropy\", max_depth = 4)\n",
        "\n",
        "# 4. Fit model to train data\n",
        "full_tree = full_tree.fit(X_train, y_train)"
      ]
    },
    {
      "cell_type": "markdown",
      "metadata": {
        "id": "-I66jKusS_Xe"
      },
      "source": [
        "# Create a confusion matrix\n",
        "\n",
        "The confusion matrix will show counts of false positives, true positives, false negatives and true negatives. Essentially it provides a window into how the model is performing--where it is making mistakes.\n",
        "\n",
        "Remember that the confusion matrix will display TP, FP, TN and FN *on the test set*.  Thus:\n",
        "\n",
        "1. Fit the model on the train set\n",
        "2. Evaluate the model on test set\n",
        "\n"
      ]
    },
    {
      "cell_type": "code",
      "source": [
        "# Get model predictions\n",
        "pred = full_tree.predict(X = X_test)\n"
      ],
      "metadata": {
        "id": "XaXPt2wmeJHQ"
      },
      "execution_count": null,
      "outputs": []
    },
    {
      "cell_type": "code",
      "source": [
        "pred[0:5,]"
      ],
      "metadata": {
        "id": "2-uMPp0hsW3x"
      },
      "execution_count": null,
      "outputs": []
    },
    {
      "cell_type": "code",
      "source": [
        "# create a confusion matrix using the Display.from_predictions function\n",
        "from sklearn.metrics import ConfusionMatrixDisplay\n",
        "\n",
        "ConfusionMatrixDisplay.from_predictions(y_test, pred)"
      ],
      "metadata": {
        "id": "RgZ_Mc3rUv-K"
      },
      "execution_count": null,
      "outputs": []
    },
    {
      "cell_type": "markdown",
      "source": [
        "Explanation of code:\n",
        "\n",
        "- `ConfusionMatrixDisplay.from_predictions(y, pred)`: creates a confusion matrix in a heatmap format."
      ],
      "metadata": {
        "id": "d8VYOWViuBSm"
      }
    },
    {
      "cell_type": "markdown",
      "source": [
        "It is typical to put the predictions in the columns.  But what matters is that you are able to identify the following categories--and associated counts-- from the table:\n",
        "\n",
        "- TP--predicted to leave and actually left:  395\n",
        "- FP--predicted to leave but stayed:  218\n",
        "- TN--predicted to stay and stayed: 297\n",
        "- FN--predicted to stay but left: 89   \n",
        "\n",
        "These numbers are related to accuracy.  (TP + TN)/ total = accuracy.  \n",
        "\n",
        "Go ahead and do the calculations."
      ],
      "metadata": {
        "id": "D9PYLQg4m-RN"
      }
    },
    {
      "cell_type": "code",
      "source": [
        "# Calculate accuracy from the confusion matrix\n"
      ],
      "metadata": {
        "id": "z2mR2u0gnPr_"
      },
      "execution_count": null,
      "outputs": []
    },
    {
      "cell_type": "code",
      "source": [
        "# Verify by comparing test predictions and test observations using the code\n",
        "# from previous labs\n"
      ],
      "metadata": {
        "id": "AcqhHvgHncN5"
      },
      "execution_count": null,
      "outputs": []
    },
    {
      "cell_type": "markdown",
      "metadata": {
        "id": "vTC161_b9kWm"
      },
      "source": [
        "# Calculate Profit\n",
        "\n",
        "Using the above confusion matrix how much profit (revenue - costs) could be expected with the following costs-benefits?\n",
        "\n",
        "For MegaTelCo we will assume:\n",
        "- benefit (revenue) = 800\n",
        "- cost = 200  \n",
        "\n",
        "TPs are a benefit, FPs are a cost. Again, we ignore those predicted to stay.\n",
        "\n",
        "Why do we ignore those who are predicted to stay??\n",
        "\n",
        "Note that the cost-benefit numbers will be different in the AdviseInvest case! Costs and benefits are very context dependent.\n",
        "\n",
        "Why are TPs a benefit? In the MegaTelCo scenario, these are customers who are predicted to leave and actually were going to leave. If your marketing campaign is successful, then you can convince them to stay, thereby saving the company money. (In the AdviseInvest scenario the situation is a little different. TPs are customers that you have predicted will answer the phone and do answer, thus providing an opportunity for your sales reps to make a sale.)\n",
        "\n",
        "**Assume you can save 100% of the people who were actually going to leave.**\n",
        "\n",
        "Here is the calculation:\n",
        "\n",
        "- Multiply TP (the true leavers) x 600 (benefit - cost).  These are the leave-leave people in the confusion matrix who would have been  retained due to your marketing campaign.\n",
        "- Multiply FP (the false leavers) x 200 (cost). These are the leave-stay people in the confusion matrix who churned. They got the offer but were going to stay anyway.  You wasted your money."
      ]
    },
    {
      "cell_type": "code",
      "execution_count": null,
      "metadata": {
        "id": "y3BHSJu-9s8z"
      },
      "outputs": [],
      "source": [
        "# Calculate profit for targeting only those predicted to leave\n",
        "\n"
      ]
    },
    {
      "cell_type": "markdown",
      "source": [
        "So, this strategy would show a profit.  But we need to compare this against the default strategy not using a model at all, which would entail marketing to all customers.\n",
        "\n",
        "What would profit be in that case?"
      ],
      "metadata": {
        "id": "3cNzzRqSpu1Q"
      }
    },
    {
      "cell_type": "code",
      "source": [
        "# Calculate profit for targeting everyone\n",
        "\n",
        "# hint: use the proportion of leavers and stayers in test\n",
        "y_test.value_counts()\n"
      ],
      "metadata": {
        "id": "w8eEYPYks0xT"
      },
      "execution_count": null,
      "outputs": []
    },
    {
      "cell_type": "markdown",
      "source": [
        "Which strategy will show more profit: targeting everyone or targeting only those predicted to leave?"
      ],
      "metadata": {
        "id": "CZFbmqYEtJmJ"
      }
    },
    {
      "cell_type": "markdown",
      "source": [
        "# Adjust the decision threshold\n",
        "\n",
        "As discussed in the lecture, we can adjust the class decision threshold up or down to shift the numbers around in the confusion matrix.  This will impact profit.\n",
        "\n",
        "So far we have used the default for classifying the positive class: the majority, meaning a probability of .5 or greater.\n",
        "\n",
        "Let's try a threshold of .7.\n",
        "\n",
        "1. Predict probabilities rather than a label, again using the test set. We will use the awkwardly named function `predict_proba().` This returns a two column numpy array, with two probabilities for each observation."
      ],
      "metadata": {
        "id": "LOvXx2sguVuy"
      }
    },
    {
      "cell_type": "code",
      "source": [
        "# Predict probabilities for X_test\n",
        "pred_prob = full_tree.predict_proba(X = X_test)\n",
        "\n",
        "# Check that it worked\n",
        "pred_prob[:5,]"
      ],
      "metadata": {
        "id": "qqJrjE0p7Yg1"
      },
      "execution_count": null,
      "outputs": []
    },
    {
      "cell_type": "markdown",
      "source": [
        "\n",
        "\n",
        "2. Turn the probabilities > .7 into a `LEAVE` for use in the confusion matrix. For this operation we'll use the `where()` function from numpy. `pred_prob` is an array with two columns. We'll need to be sure to use the first column.  Why first? the order corresponds to the order of the levels in `leave`, which is alphabetic, with `LEAVE` first."
      ],
      "metadata": {
        "id": "AyaSh8VS8Jfr"
      }
    },
    {
      "cell_type": "code",
      "source": [
        "pred_labels = np.where(pred_prob[:,0] > 0.7, \"LEAVE\", \"STAY\")"
      ],
      "metadata": {
        "id": "6XZqfPycCElv"
      },
      "execution_count": null,
      "outputs": []
    },
    {
      "cell_type": "markdown",
      "source": [
        "Code explanation:\n",
        "\n",
        "- `pred_prob[:,0]`: This is array indexing in NumPy. `:` means \"all rows.\" `0` means \"first column\" (remember, indexing starts at 0)\n",
        "\n",
        "- `pred_prob[:,0] > 0.7`: This creates a boolean array, comparing each value in the selected column to 0.7.\n",
        "\n",
        "- `np.where()`: This is a NumPy function that works like `IF` in Excel to return elements chosen from two options based on a condition. It takes three arguments: condition, x, y.  Where the condition (`pred_prob[:,0] > 0.7`) is True, \"LEAVE\" will be used. Where the condition is False, \"STAY\" will be used."
      ],
      "metadata": {
        "id": "wHN1tUvkCsPF"
      }
    },
    {
      "cell_type": "markdown",
      "source": [
        "3. Calculate profit using `pred_labels`"
      ],
      "metadata": {
        "id": "7jN61fodErVH"
      }
    },
    {
      "cell_type": "code",
      "source": [
        "# Create a confusion matrix using these new labels\n",
        "\n",
        "ConfusionMatrixDisplay.from_predictions(y_test, pred_labels)"
      ],
      "metadata": {
        "id": "SPAVwlnnCqp6"
      },
      "execution_count": null,
      "outputs": []
    },
    {
      "cell_type": "code",
      "source": [
        "# Calculate profit\n"
      ],
      "metadata": {
        "id": "7QVYZ9kpFmsR"
      },
      "execution_count": null,
      "outputs": []
    },
    {
      "cell_type": "markdown",
      "source": [
        "# Your Turn:\n",
        "\n",
        "Try a threshold of .3."
      ],
      "metadata": {
        "id": "q2GdjFWPGMqt"
      }
    },
    {
      "cell_type": "code",
      "source": [
        "# Predict probabilities for X_test\n"
      ],
      "metadata": {
        "id": "94FzbluKGY4E"
      },
      "execution_count": null,
      "outputs": []
    },
    {
      "cell_type": "code",
      "source": [
        "# Create a confusion matrix using these new labels"
      ],
      "metadata": {
        "id": "HCRX37rlI-qA"
      },
      "execution_count": null,
      "outputs": []
    },
    {
      "cell_type": "code",
      "source": [
        "# Calculate profit\n",
        "\n"
      ],
      "metadata": {
        "id": "k62R1UZQGzWV"
      },
      "execution_count": null,
      "outputs": []
    },
    {
      "cell_type": "markdown",
      "source": [
        "**Make a comment.**\n",
        "\n",
        "Compare this strategy with:\n",
        "1. targeting everyone\n",
        "2. targeting .5 and above\n",
        "3. targeting .7 and above"
      ],
      "metadata": {
        "id": "j_fscC2mIU4m"
      }
    }
  ],
  "metadata": {
    "colab": {
      "provenance": [],
      "toc_visible": true
    },
    "kernelspec": {
      "display_name": "Python 3",
      "name": "python3"
    },
    "language_info": {
      "name": "python"
    }
  },
  "nbformat": 4,
  "nbformat_minor": 0
}